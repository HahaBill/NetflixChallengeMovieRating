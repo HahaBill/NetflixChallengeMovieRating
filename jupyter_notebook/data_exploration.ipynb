{
 "cells": [
  {
   "cell_type": "markdown",
   "metadata": {},
   "source": [
    "# Data exploration\n",
    "\n",
    "This serves only for exploration purposes, no real implementation or prediction here"
   ]
  },
  {
   "cell_type": "code",
   "execution_count": 65,
   "metadata": {},
   "outputs": [],
   "source": [
    "import pandas as pd\n",
    "import numpy as np\n",
    "import xgboost"
   ]
  },
  {
   "cell_type": "code",
   "execution_count": 109,
   "metadata": {},
   "outputs": [],
   "source": [
    "# Reading all the data\n",
    "\n",
    "movies = pd.read_csv('../data/movies.csv', delimiter=';', dtype={'movieID':'int', 'year':'int', 'movie':'str'}, names=['movieID', 'year', 'movie'])\n",
    "predictions = pd.read_csv('../data/predictions.csv', delimiter=';', names=['userID', 'movieID'], header=None)\n",
    "ratings = pd.read_csv('../data/ratings.csv', delimiter=';', dtype={'userID':'int', 'movieID':'int', 'rating':'int'}, names=['userID', 'movieID', 'rating'])\n",
    "user = pd.read_csv('../data/users.csv', delimiter=';', dtype={'userID':'int', 'gender':'str', 'age':'int', 'profession':'int'}, names=['userID', 'gender', 'age', 'profession'])\n",
    "\n",
    "submission = pd.read_csv('../data/submission.csv')"
   ]
  },
  {
   "cell_type": "markdown",
   "metadata": {},
   "source": [
    "## Movies"
   ]
  },
  {
   "cell_type": "code",
   "execution_count": 5,
   "metadata": {},
   "outputs": [
    {
     "data": {
      "text/html": [
       "<div>\n",
       "<style scoped>\n",
       "    .dataframe tbody tr th:only-of-type {\n",
       "        vertical-align: middle;\n",
       "    }\n",
       "\n",
       "    .dataframe tbody tr th {\n",
       "        vertical-align: top;\n",
       "    }\n",
       "\n",
       "    .dataframe thead th {\n",
       "        text-align: right;\n",
       "    }\n",
       "</style>\n",
       "<table border=\"1\" class=\"dataframe\">\n",
       "  <thead>\n",
       "    <tr style=\"text-align: right;\">\n",
       "      <th></th>\n",
       "      <th>movieID</th>\n",
       "      <th>year</th>\n",
       "      <th>movie</th>\n",
       "    </tr>\n",
       "  </thead>\n",
       "  <tbody>\n",
       "    <tr>\n",
       "      <td>3701</td>\n",
       "      <td>3702</td>\n",
       "      <td>2000</td>\n",
       "      <td>Meet_the_Parents_(2000)</td>\n",
       "    </tr>\n",
       "    <tr>\n",
       "      <td>3702</td>\n",
       "      <td>3703</td>\n",
       "      <td>2000</td>\n",
       "      <td>Requiem_for_a_Dream_(2000)</td>\n",
       "    </tr>\n",
       "    <tr>\n",
       "      <td>3703</td>\n",
       "      <td>3704</td>\n",
       "      <td>2000</td>\n",
       "      <td>Tigerland_(2000)</td>\n",
       "    </tr>\n",
       "    <tr>\n",
       "      <td>3704</td>\n",
       "      <td>3705</td>\n",
       "      <td>2000</td>\n",
       "      <td>Two_Family_House_(2000)</td>\n",
       "    </tr>\n",
       "    <tr>\n",
       "      <td>3705</td>\n",
       "      <td>3706</td>\n",
       "      <td>2000</td>\n",
       "      <td>Contender,_The_(2000)</td>\n",
       "    </tr>\n",
       "  </tbody>\n",
       "</table>\n",
       "</div>"
      ],
      "text/plain": [
       "      movieID  year                       movie\n",
       "3701     3702  2000     Meet_the_Parents_(2000)\n",
       "3702     3703  2000  Requiem_for_a_Dream_(2000)\n",
       "3703     3704  2000            Tigerland_(2000)\n",
       "3704     3705  2000     Two_Family_House_(2000)\n",
       "3705     3706  2000       Contender,_The_(2000)"
      ]
     },
     "execution_count": 5,
     "metadata": {},
     "output_type": "execute_result"
    }
   ],
   "source": [
    "movies.tail()"
   ]
  },
  {
   "cell_type": "code",
   "execution_count": 92,
   "metadata": {},
   "outputs": [
    {
     "data": {
      "text/plain": [
       "movieID    0\n",
       "year       0\n",
       "movie      0\n",
       "dtype: int64"
      ]
     },
     "execution_count": 92,
     "metadata": {},
     "output_type": "execute_result"
    }
   ],
   "source": [
    "movies.isna().sum()"
   ]
  },
  {
   "cell_type": "markdown",
   "metadata": {},
   "source": [
    "## Predictions"
   ]
  },
  {
   "cell_type": "code",
   "execution_count": 110,
   "metadata": {},
   "outputs": [
    {
     "data": {
      "text/html": [
       "<div>\n",
       "<style scoped>\n",
       "    .dataframe tbody tr th:only-of-type {\n",
       "        vertical-align: middle;\n",
       "    }\n",
       "\n",
       "    .dataframe tbody tr th {\n",
       "        vertical-align: top;\n",
       "    }\n",
       "\n",
       "    .dataframe thead th {\n",
       "        text-align: right;\n",
       "    }\n",
       "</style>\n",
       "<table border=\"1\" class=\"dataframe\">\n",
       "  <thead>\n",
       "    <tr style=\"text-align: right;\">\n",
       "      <th></th>\n",
       "      <th>userID</th>\n",
       "      <th>movieID</th>\n",
       "    </tr>\n",
       "  </thead>\n",
       "  <tbody>\n",
       "    <tr>\n",
       "      <td>0</td>\n",
       "      <td>1635</td>\n",
       "      <td>1914</td>\n",
       "    </tr>\n",
       "    <tr>\n",
       "      <td>1</td>\n",
       "      <td>2077</td>\n",
       "      <td>2124</td>\n",
       "    </tr>\n",
       "    <tr>\n",
       "      <td>2</td>\n",
       "      <td>3507</td>\n",
       "      <td>1582</td>\n",
       "    </tr>\n",
       "    <tr>\n",
       "      <td>3</td>\n",
       "      <td>1117</td>\n",
       "      <td>2857</td>\n",
       "    </tr>\n",
       "    <tr>\n",
       "      <td>4</td>\n",
       "      <td>5298</td>\n",
       "      <td>3281</td>\n",
       "    </tr>\n",
       "  </tbody>\n",
       "</table>\n",
       "</div>"
      ],
      "text/plain": [
       "   userID  movieID\n",
       "0    1635     1914\n",
       "1    2077     2124\n",
       "2    3507     1582\n",
       "3    1117     2857\n",
       "4    5298     3281"
      ]
     },
     "execution_count": 110,
     "metadata": {},
     "output_type": "execute_result"
    }
   ],
   "source": [
    "#predictions.sort_values('userID')\n",
    "#predictions['userID'].value_counts()\n",
    "#predictions.sort_values('movieID', inplace=True)\n",
    "predictions.head()"
   ]
  },
  {
   "cell_type": "markdown",
   "metadata": {},
   "source": [
    "## Ratings"
   ]
  },
  {
   "cell_type": "code",
   "execution_count": 142,
   "metadata": {},
   "outputs": [
    {
     "name": "stdout",
     "output_type": "stream",
     "text": [
      "2\n",
      "        userID  movieID  rating\n",
      "135398    1635        1       5\n",
      "753231    1635        2       3\n",
      "496145    1635        6       4\n",
      "504927    1635        7       4\n",
      "454451    1635        9       2\n",
      "...        ...      ...     ...\n",
      "707879    1635     1863       4\n",
      "243797    1635     1864       3\n",
      "908481    1635     1866       3\n",
      "270227    1635     1870       3\n",
      "870040    1635     1871       2\n",
      "\n",
      "[420 rows x 3 columns]\n"
     ]
    }
   ],
   "source": [
    "#r = ratings.groupby('userID', as_index=False, sort=False).mean().drop().rename(columns:{'userID': 'userID'})\n",
    "# r = ratings.groupby('movieID').size().reset_index(name='count')\n",
    "# r['count'].value_counts()\n",
    "\n",
    "# r = ratings.groupby('userID', as_index=False, sort=False) \\\n",
    "#     .mean() \\\n",
    "#     .rename(columns={'userID': 'userID', 'rating' : 'mean_rating'})\n",
    "\n",
    "# r.drop('movieID', axis=1, inplace=True)\n",
    "# #r = ratings.groupby('userID', as_index=False, sort=False)['rating'].mean()\n",
    "\n",
    "# new_r = ratings.merge(r, how='left', on='userID', sort=False)\n",
    "# #ratings['userID'].value_counts()\n",
    "\n",
    "# new_r['centered_cosine'] = new_r['rating'] - new_r['mean_rating']\n",
    "\n",
    "# new_r.head()\n",
    "\n",
    "# ratings.sort_values('movieID', inplace=True)\n",
    "# ratings.tail(50)\n",
    "\n",
    "utility_matrix = ratings.pivot_table(index='userID', columns='movieID', values='rating',\n",
    "                                         fill_value=0)\n",
    "\n",
    "original_rating = utility_matrix.values\n",
    "# for i, row in utility_matrix.iterrows():\n",
    "#     if(i in range_missing):\n",
    "#         original_rating = np.vstack([original_rating, row.values])\n",
    "        \n",
    "print(original_rating[1635 - 1][9 - 1])\n",
    "\n",
    "hello = ratings[ratings['userID'] == 1635].sort_values('movieID')\n",
    "print(hello.head(420))"
   ]
  },
  {
   "cell_type": "markdown",
   "metadata": {},
   "source": [
    "## Submission"
   ]
  },
  {
   "cell_type": "code",
   "execution_count": 93,
   "metadata": {},
   "outputs": [
    {
     "data": {
      "text/plain": [
       "Id        0\n",
       "Rating    0\n",
       "dtype: int64"
      ]
     },
     "execution_count": 93,
     "metadata": {},
     "output_type": "execute_result"
    }
   ],
   "source": [
    "submission.head()"
   ]
  },
  {
   "cell_type": "markdown",
   "metadata": {},
   "source": [
    "## Users"
   ]
  },
  {
   "cell_type": "code",
   "execution_count": 4,
   "metadata": {},
   "outputs": [
    {
     "data": {
      "text/html": [
       "<div>\n",
       "<style scoped>\n",
       "    .dataframe tbody tr th:only-of-type {\n",
       "        vertical-align: middle;\n",
       "    }\n",
       "\n",
       "    .dataframe tbody tr th {\n",
       "        vertical-align: top;\n",
       "    }\n",
       "\n",
       "    .dataframe thead th {\n",
       "        text-align: right;\n",
       "    }\n",
       "</style>\n",
       "<table border=\"1\" class=\"dataframe\">\n",
       "  <thead>\n",
       "    <tr style=\"text-align: right;\">\n",
       "      <th></th>\n",
       "      <th>userID</th>\n",
       "      <th>gender</th>\n",
       "      <th>age</th>\n",
       "      <th>profession</th>\n",
       "    </tr>\n",
       "  </thead>\n",
       "  <tbody>\n",
       "    <tr>\n",
       "      <td>6035</td>\n",
       "      <td>6036</td>\n",
       "      <td>F</td>\n",
       "      <td>25</td>\n",
       "      <td>15</td>\n",
       "    </tr>\n",
       "    <tr>\n",
       "      <td>6036</td>\n",
       "      <td>6037</td>\n",
       "      <td>F</td>\n",
       "      <td>45</td>\n",
       "      <td>1</td>\n",
       "    </tr>\n",
       "    <tr>\n",
       "      <td>6037</td>\n",
       "      <td>6038</td>\n",
       "      <td>F</td>\n",
       "      <td>56</td>\n",
       "      <td>1</td>\n",
       "    </tr>\n",
       "    <tr>\n",
       "      <td>6038</td>\n",
       "      <td>6039</td>\n",
       "      <td>F</td>\n",
       "      <td>45</td>\n",
       "      <td>0</td>\n",
       "    </tr>\n",
       "    <tr>\n",
       "      <td>6039</td>\n",
       "      <td>6040</td>\n",
       "      <td>M</td>\n",
       "      <td>25</td>\n",
       "      <td>6</td>\n",
       "    </tr>\n",
       "  </tbody>\n",
       "</table>\n",
       "</div>"
      ],
      "text/plain": [
       "      userID gender  age  profession\n",
       "6035    6036      F   25          15\n",
       "6036    6037      F   45           1\n",
       "6037    6038      F   56           1\n",
       "6038    6039      F   45           0\n",
       "6039    6040      M   25           6"
      ]
     },
     "execution_count": 4,
     "metadata": {},
     "output_type": "execute_result"
    }
   ],
   "source": [
    "user.tail()"
   ]
  },
  {
   "cell_type": "code",
   "execution_count": null,
   "metadata": {},
   "outputs": [],
   "source": []
  }
 ],
 "metadata": {
  "kernelspec": {
   "display_name": "Python 3",
   "language": "python",
   "name": "python3"
  },
  "language_info": {
   "codemirror_mode": {
    "name": "ipython",
    "version": 3
   },
   "file_extension": ".py",
   "mimetype": "text/x-python",
   "name": "python",
   "nbconvert_exporter": "python",
   "pygments_lexer": "ipython3",
   "version": "3.7.4"
  }
 },
 "nbformat": 4,
 "nbformat_minor": 2
}
